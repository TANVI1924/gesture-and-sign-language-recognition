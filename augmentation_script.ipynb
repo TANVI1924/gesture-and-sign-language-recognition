{
 "cells": [
  {
   "cell_type": "code",
   "execution_count": null,
   "id": "9eb3436e-b724-4983-80ba-6e9e8bf83c80",
   "metadata": {},
   "outputs": [],
   "source": [
    "import os\n",
    "import numpy as np\n",
    "from tensorflow.keras.preprocessing.image import ImageDataGenerator, img_to_array, load_img\n",
    "import matplotlib.pyplot as plt"
   ]
  },
  {
   "cell_type": "code",
   "execution_count": null,
   "id": "2d3a6db5-f956-4b46-819d-e5825a5983da",
   "metadata": {},
   "outputs": [],
   "source": [
    "base_dir = 'E:/gesture_images'\n",
    "gestures = ['Hello', 'Fist', 'Stop', 'Like', 'Dislike', 'Peace']\n"
   ]
  },
  {
   "cell_type": "code",
   "execution_count": null,
   "id": "d9ce7ac2-eb98-4008-967e-208641bb24c6",
   "metadata": {},
   "outputs": [],
   "source": [
    "augmenter = ImageDataGenerator(\n",
    "    rotation_range=10,\n",
    "    width_shift_range=0.1,\n",
    "    height_shift_range=0.1,\n",
    "    zoom_range=0.1,\n",
    "    brightness_range=[0.8, 1.2],\n",
    "    fill_mode='nearest'\n",
    ")"
   ]
  },
  {
   "cell_type": "code",
   "execution_count": null,
   "id": "a3853a61-9725-4997-9596-0368ab195488",
   "metadata": {},
   "outputs": [],
   "source": [
    "augment_per_image = 3  \n",
    "\n",
    "for gesture in gestures:\n",
    "    input_dir = os.path.join(base_dir, gesture)\n",
    "    output_dir = os.path.join(base_dir, f\"{gesture}_aug\")\n",
    "    os.makedirs(output_dir, exist_ok=True)\n",
    "\n",
    "    image_files = [f for f in os.listdir(input_dir) if f.lower().endswith(('.png', '.jpg', '.jpeg'))]\n",
    "\n",
    "    for file in image_files:\n",
    "        img_path = os.path.join(input_dir, file)\n",
    "        img = load_img(img_path, target_size=(128, 128))\n",
    "        x = img_to_array(img)\n",
    "        x = np.expand_dims(x, axis=0)\n",
    "\n",
    "        i = 0\n",
    "        for batch in augmenter.flow(x, batch_size=1, save_to_dir=output_dir,\n",
    "                                    save_prefix=gesture.lower(), save_format='jpg'):\n",
    "            \n",
    "            if i == 0:\n",
    "                plt.imshow(batch[0].astype(\"uint8\"))\n",
    "                plt.title(f'Augmented {gesture}')\n",
    "                plt.axis('off')\n",
    "                plt.show()\n",
    "\n",
    "            i += 1\n",
    "            if i >= augment_per_image:\n",
    "                break"
   ]
  },
  {
   "cell_type": "code",
   "execution_count": null,
   "id": "0cd95307-7e7c-4473-90b9-0561b7632c11",
   "metadata": {},
   "outputs": [],
   "source": [
    "print(\"✅ Augmentation complete.\")"
   ]
  },
  {
   "cell_type": "code",
   "execution_count": null,
   "id": "ee7cff9f-50d2-49d8-9d4f-bc143cb69ac2",
   "metadata": {},
   "outputs": [],
   "source": []
  }
 ],
 "metadata": {
  "kernelspec": {
   "display_name": "Python (TF)",
   "language": "python",
   "name": "tf_env"
  },
  "language_info": {
   "codemirror_mode": {
    "name": "ipython",
    "version": 3
   },
   "file_extension": ".py",
   "mimetype": "text/x-python",
   "name": "python",
   "nbconvert_exporter": "python",
   "pygments_lexer": "ipython3",
   "version": "3.10.18"
  }
 },
 "nbformat": 4,
 "nbformat_minor": 5
}
